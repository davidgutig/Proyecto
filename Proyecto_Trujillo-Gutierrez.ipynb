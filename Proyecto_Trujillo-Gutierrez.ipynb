{
 "cells": [
  {
   "cell_type": "markdown",
   "metadata": {},
   "source": [
    "### PROYECTO HERRAMIENTAS COMPUTACIONALES\n",
    "## Estudiante 1: David Gutierrez\n",
    "## Estudiante 2: Andres Trujillo\n",
    "\n",
    "Universidad de los andes - 1 de Octubre del 2022\n",
    "___\n",
    "pruuuebennnn\n",
    "## 1) Organización de los datos\n",
    "- Para este punto se realizo la organización de los datos en Dataframe. El tiempo de estudio fueron 5 meses del 1 de Agosto al 31 de diciembre del 2019."
   ]
  },
  {
   "cell_type": "code",
   "execution_count": null,
   "metadata": {},
   "outputs": [],
   "source": [
    "#IMPORTAR LIBRERIAS\n",
    "import pandas as pd\n",
    "\n",
    "isd= \"data/SD_5Min.xlsx\"\n",
    "d5=44064  #Cantidad  de datos(5 datos) \n",
    "\n",
    "# Se separa cada hoja del docuento en distintos dataframes.\n",
    "corr_ac=pd.read_excel(isd,nrows=d5,sheet_name=\"Corr_AC\",usecols=[0,1,2])\n",
    "corr_ac=corr_ac.fillna(value=0)\n",
    "pot_dc=pd.read_excel(isd,nrows=d5,sheet_name=\"Pot_DC\",usecols=[0,1,2])\n",
    "pot_dc=pot_dc.fillna(value=0)\n",
    "corr_dc=pd.read_excel(isd,nrows=d5,sheet_name=\"Corr_DC\",usecols=[0,1,2])\n",
    "corr_dc=corr_dc.fillna(value=0)\n",
    "pot_ac=pd.read_excel(isd,nrows=d5,sheet_name=\"Pot_AC\",usecols=[0,1,2])\n",
    "pot_ac=pot_ac.fillna(value=0)\n",
    "temp=pd.read_excel(isd,nrows=d5,sheet_name=\"T\",usecols=[0,1,2])\n",
    "temp=temp.fillna(value=0)\n",
    "ener=pd.read_excel(isd,nrows=d5,sheet_name=\"Enrg\",usecols=[0,1,2])\n",
    "ener=ener.fillna(value=0)\n",
    "rad=pd.read_excel(isd,nrows=d5,sheet_name=\"Radiacion\",usecols=[0,1])\n",
    "rad=rad.fillna(value=0)\n",
    "ten_dc=pd.read_excel(isd,nrows=d5,sheet_name=\"Ten_DC\",usecols=[0,1,2])\n",
    "ten_dc=ten_dc.fillna(value=0)"
   ]
  },
  {
   "cell_type": "markdown",
   "metadata": {},
   "source": []
  },
  {
   "cell_type": "code",
   "execution_count": null,
   "metadata": {},
   "outputs": [],
   "source": [
    "a=0\n",
    "b=0\n",
    "print()\n",
    "\n",
    "rad.loc[rad['DC Current SysA (A)'] >= 9.5, 'DC Current SysA (A)'] = 9.5\n",
    "rad.loc[rad['DC Current SysB (A)'] >= 5.6, 'DC Current SysB (A)'] = 5.6"
   ]
  },
  {
   "cell_type": "markdown",
   "metadata": {},
   "source": [
    "## ITEM 1 - COMPARACIÓNN DE VOLATJES Y CORRIENTES MEDIDAS VS CALCULADAS\n",
    "# Calculo de Voltaje y corriente \n",
    "\n",
    "- Con esta información es posible determinar el voltaje de circuito abierto 𝑉_oc y la corriente \n",
    "de corto circuito I_oc, así: "
   ]
  },
  {
   "cell_type": "code",
   "execution_count": null,
   "metadata": {},
   "outputs": [],
   "source": [
    "# Importar numpy y el graficador matplotlib\n",
    "import numpy as np\n",
    "import matplotlib.pyplot as plt\n",
    "\n",
    "\n",
    "Ψ=-0.00261\n",
    "δ=0.00021\n",
    "tm=25\n",
    "\n",
    "corr_dc.loc[corr_dc['DC Current SysA (A)'] >= 9.5, 'DC Current SysA (A)'] = 9.5\n",
    "corr_dc.loc[corr_dc['DC Current SysB (A)'] >= 5.6, 'DC Current SysB (A)'] = 5.6\n",
    "\n",
    "\n",
    "v_oc_b=ten_dc[\"DC Voltage SysB (V)\"]\n",
    "v_oc_a=ten_dc[\"DC Voltage SysA (V)\"]\n",
    "\n",
    "i_oc_a=corr_dc[\"DC Current SysA (A)\"]\n",
    "i_oc_b=corr_dc[\"DC Current SysB (A)\"]\n",
    "\n",
    "v_oc_a_m = v_oc_a +(Ψ*(temp[\"Tmod (degC)\"]-tm))\n",
    "\n",
    "v_oc_b_m = v_oc_b +(Ψ*(temp[\"Tmod (degC)\"]-tm))\n",
    "\n",
    "i_oc_a_m = i_oc_a +(δ*(temp[\"Tmod (degC)\"]-tm))\n",
    "\n",
    "i_oc_b_m = i_oc_b +(δ*(temp[\"Tmod (degC)\"]-tm))\n",
    "\n",
    "hor = 20\n",
    "ver = 21\n",
    "plt.figure(figsize=(hor, ver))\n",
    "\n",
    "plt.plot(v_oc_b, v_oc_b_m, label = \"Voltaje calculado vs Voltaje medido en sistema b\",color='blue')\n",
    "plt.plot(v_oc_a, v_oc_a_m, label = \"Voltaje calculado vs Voltaje medido en sistema a\",color='yellow')\n",
    "\n",
    "\n",
    "plt.title(\"Voltaje calculado vs Voltaje medido\", fontsize=14)\n",
    "plt.ylabel(\"Voltaje calculado\", fontsize=14)\n",
    "plt.xlabel(\"Voltaje medido\", fontsize=14)\n",
    "plt.ylim(None, None)\n",
    "plt.xlim(None, None)\n",
    "plt.grid(True)\n",
    "plt.grid (color='grey', linestyle=\"-\")\n",
    "plt.legend(loc='best', fontsize=12)\n",
    "plt.show()\n",
    "\n",
    "plt.figure(figsize=(hor, ver))\n",
    "plt.plot(i_oc_a, i_oc_a_m, label = \"Voltaje calculado vs Voltaje medido en sistema a\",color='red')\n",
    "plt.plot(i_oc_b, i_oc_b_m,marker='o', label = \"Voltaje calculado vs Voltaje medido en sistema b\")\n",
    "\n",
    "plt.title(\"Corriente calculada vs Coriente medida\", fontsize=15)\n",
    "plt.ylabel(\"Voltaje calc\", fontsize=20)\n",
    "plt.xlabel(\"Voltaje de la medicion\", fontsize=20)\n",
    "plt.ylim(None, None)\n",
    "plt.xlim(None, None)\n",
    "plt.grid(True)\n",
    "\n",
    "plt.legend(loc='best', fontsize=11)\n",
    "plt.show()\n"
   ]
  },
  {
   "cell_type": "markdown",
   "metadata": {},
   "source": [
    "## ITEM 2 - COMPARACIÓN DE POTENCIA DC MEDIDA VS CALCULADA\n",
    "- Realice una gráfica en donde correlacione la medición de la potencia DC y el cálculo \n",
    "de 𝑃dc. ¿Q"
   ]
  },
  {
   "cell_type": "code",
   "execution_count": null,
   "metadata": {},
   "outputs": [],
   "source": [
    "# SISTEMA A\n",
    "pa=8\n",
    "psa=16\n",
    "\n",
    "# SISTEMA b\n",
    "pb=4\n",
    "psb=18\n",
    "\n",
    "print(pot_dc)\n",
    "\n",
    "#POTENCIA A\n",
    "pot_dc_a_m= (v_oc_a_m*i_oc_a_m)*pa*psa*(1-0.269)\n",
    "#POTENCIA B\n",
    "pot_dc_b_m= (v_oc_b_m*i_oc_b_m)*pb*psb*(1-0.269)\n",
    "\n",
    "\n",
    "plt.figure(figsize=(hor, ver))\n",
    "plt.scatter(pot_dc[\"DC Power SysB (W)\"],pot_dc_b_m,s=1, label = \"Voltaje calculado vs Voltaje medido en sistema b\")\n",
    "plt.scatter(pot_dc[\"DC Power SysA (W)\"],pot_dc_a_m,s=1, label = \"Voltaje calculado vs Voltaje medido en sistema a\")\n",
    "\n",
    "plt.title(\"Potencia calculada vs Potencia medida\", fontsize=15)\n",
    "plt.ylabel(\"Potencia calculada\", fontsize=13)\n",
    "plt.xlabel(\"Potencia medida\", fontsize=13)\n",
    "plt.ylim(None, None)\n",
    "plt.xlim(None, None)\n",
    "plt.grid(True)\n",
    "plt.legend(loc='best', fontsize=11)\n",
    "plt.show()\n",
    "\n"
   ]
  },
  {
   "cell_type": "markdown",
   "metadata": {},
   "source": [
    " ITEM 3 - ESTIMAR POTENCIA POR MEDIO DE METODO NREL PVWATS \n",
    "- Ítem 3\n",
    "Realice una gráfica en donde correlacione la medición de la potencia DC y el cálculo \n",
    "de 𝑃_dc a partir del modelo de potencia de NREL PVWatts."
   ]
  },
  {
   "cell_type": "code",
   "execution_count": null,
   "metadata": {},
   "outputs": [],
   "source": [
    "gama = -0.00361\n",
    "t_mod=25\n",
    "#SISTEMA A\n",
    "pot_cero_dc_a=50881.1\n",
    "#SISTEMA b\n",
    "pot_cero_dc_b=28199.2\n",
    "\n",
    "pot_med_dc_a_nrel= (rad[\"Meteocontrol Irrad (W/m2)\"]/1000)*pot_cero_dc_a*(1+(gama*(temp[\"Tmod (degC)\"]-t_mod)))\n",
    "pot_med_dc_b_nrel= (rad[\"Meteocontrol Irrad (W/m2)\"]/1000)*pot_cero_dc_b*(1+(gama*(temp[\"Tmod (degC)\"]-t_mod)))\n",
    "\n",
    "\n",
    "plt.figure(figsize=(hor, ver))\n",
    "plt.scatter(pot_dc[\"DC Power SysB (W)\"],pot_med_dc_b_nrel,s=1, label = \"Potencia calculada por NREL VS medida en sistema b\")\n",
    "plt.scatter(pot_dc[\"DC Power SysA (W)\"],pot_med_dc_a_nrel,s=1, label = \"Potencia calculada por NREL VS medida en sistema a\")\n",
    "\n",
    "plt.title(\"Potencia calculada por NREL vs Potencia medida\", fontsize=15)\n",
    "plt.ylabel(\"Potencia calculada por NREL\", fontsize=13)\n",
    "plt.xlabel(\"Potencia medida\", fontsize=13)\n",
    "plt.ylim(None, None)\n",
    "plt.xlim(None, None)\n",
    "plt.grid(True)\n",
    "plt.legend(loc='best', fontsize=11)\n",
    "plt.show()\n"
   ]
  },
  {
   "cell_type": "markdown",
   "metadata": {},
   "source": [
    "## ITEM 4 - POTENCIA AC CALCULADA POR NREL PVWATS\n",
    "\n",
    "- Realice una gráfica en donde correlacione la medición de la potencia AC y el cálculo \n",
    "de 𝑃_ac a partir del modelo de potencia de NREL PVWatts. "
   ]
  },
  {
   "cell_type": "code",
   "execution_count": null,
   "metadata": {},
   "outputs": [],
   "source": []
  }
 ],
 "metadata": {
  "kernelspec": {
   "display_name": "Python 3.8.3 ('base')",
   "language": "python",
   "name": "python3"
  },
  "language_info": {
   "codemirror_mode": {
    "name": "ipython",
    "version": 3
   },
   "file_extension": ".py",
   "mimetype": "text/x-python",
   "name": "python",
   "nbconvert_exporter": "python",
   "pygments_lexer": "ipython3",
   "version": "3.8.3"
  },
  "orig_nbformat": 4,
  "vscode": {
   "interpreter": {
    "hash": "9b4cbbfa5abfd811db0feced5b7bffd36be569c6671f2531eaea6c601724f0d5"
   }
  }
 },
 "nbformat": 4,
 "nbformat_minor": 2
}
